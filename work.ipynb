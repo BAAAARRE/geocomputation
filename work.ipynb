{
 "cells": [
  {
   "cell_type": "markdown",
   "source": [
    "# Environnement"
   ],
   "metadata": {
    "collapsed": false,
    "pycharm": {
     "name": "#%% md\n"
    }
   }
  },
  {
   "cell_type": "code",
   "execution_count": 1,
   "outputs": [],
   "source": [
    "import pandas as pd\n",
    "import geopandas as gpd\n",
    "\n",
    "from shapely.geometry import Point"
   ],
   "metadata": {
    "collapsed": false,
    "pycharm": {
     "name": "#%%\n"
    }
   }
  },
  {
   "cell_type": "markdown",
   "source": [
    "# Import data"
   ],
   "metadata": {
    "collapsed": false,
    "pycharm": {
     "name": "#%% md\n"
    }
   }
  },
  {
   "cell_type": "markdown",
   "source": [
    "## Zones"
   ],
   "metadata": {
    "collapsed": false,
    "pycharm": {
     "name": "#%% md\n"
    }
   }
  },
  {
   "cell_type": "code",
   "execution_count": 186,
   "outputs": [
    {
     "data": {
      "text/plain": "    za_id za_commune                  za_nom  \\\n0       3      44032      ZA LES RAGONNIERES   \n16      7      44117      ZA LES ROITELIERES   \n22      8      44117  ZA LES PETITS PRIMEAUX   \n\n                                             geometry  \\\n0   POLYGON ((370193.990 6683581.190, 370174.930 6...   \n16  POLYGON ((370991.379 6681651.920, 370990.427 6...   \n22  POLYGON ((369241.401 6681765.420, 369249.382 6...   \n\n                          centroid            lon           lat  \n0   POINT (370195.631 6683699.998)  370195.630969  6.683700e+06  \n16  POINT (370684.096 6681362.453)  370684.096206  6.681362e+06  \n22  POINT (369456.791 6681516.129)  369456.790676  6.681516e+06  ",
      "text/html": "<div>\n<style scoped>\n    .dataframe tbody tr th:only-of-type {\n        vertical-align: middle;\n    }\n\n    .dataframe tbody tr th {\n        vertical-align: top;\n    }\n\n    .dataframe thead th {\n        text-align: right;\n    }\n</style>\n<table border=\"1\" class=\"dataframe\">\n  <thead>\n    <tr style=\"text-align: right;\">\n      <th></th>\n      <th>za_id</th>\n      <th>za_commune</th>\n      <th>za_nom</th>\n      <th>geometry</th>\n      <th>centroid</th>\n      <th>lon</th>\n      <th>lat</th>\n    </tr>\n  </thead>\n  <tbody>\n    <tr>\n      <th>0</th>\n      <td>3</td>\n      <td>44032</td>\n      <td>ZA LES RAGONNIERES</td>\n      <td>POLYGON ((370193.990 6683581.190, 370174.930 6...</td>\n      <td>POINT (370195.631 6683699.998)</td>\n      <td>370195.630969</td>\n      <td>6.683700e+06</td>\n    </tr>\n    <tr>\n      <th>16</th>\n      <td>7</td>\n      <td>44117</td>\n      <td>ZA LES ROITELIERES</td>\n      <td>POLYGON ((370991.379 6681651.920, 370990.427 6...</td>\n      <td>POINT (370684.096 6681362.453)</td>\n      <td>370684.096206</td>\n      <td>6.681362e+06</td>\n    </tr>\n    <tr>\n      <th>22</th>\n      <td>8</td>\n      <td>44117</td>\n      <td>ZA LES PETITS PRIMEAUX</td>\n      <td>POLYGON ((369241.401 6681765.420, 369249.382 6...</td>\n      <td>POINT (369456.791 6681516.129)</td>\n      <td>369456.790676</td>\n      <td>6.681516e+06</td>\n    </tr>\n  </tbody>\n</table>\n</div>"
     },
     "execution_count": 186,
     "metadata": {},
     "output_type": "execute_result"
    }
   ],
   "source": [
    "gdf_za = gpd.read_file('data/CCSL/deveco.za.shp')\n",
    "gdf_za = gdf_za[['za_id', 'za_commune', 'za_nom', 'geometry']]\n",
    "gdf_za = gdf_za[gdf_za['za_nom'].isin(['ZA LES RAGONNIERES', 'ZA LES ROITELIERES', 'ZA LES PETITS PRIMEAUX'])]\n",
    "gdf_za['centroid'] = gdf_za['geometry'].centroid\n",
    "gdf_za['lon'] = gdf_za.centroid.x\n",
    "gdf_za['lat'] = gdf_za.centroid.y\n",
    "gdf_za"
   ],
   "metadata": {
    "collapsed": false,
    "pycharm": {
     "name": "#%%\n"
    }
   }
  },
  {
   "cell_type": "code",
   "execution_count": 187,
   "outputs": [],
   "source": [
    "poly_rag = gdf_za[gdf_za['za_nom'] == 'ZA LES RAGONNIERES']['geometry'].iloc[0]\n",
    "poly_roi = gdf_za[gdf_za['za_nom'] == 'ZA LES ROITELIERES']['geometry'].iloc[0]\n",
    "poly_pet = gdf_za[gdf_za['za_nom'] == 'ZA LES PETITS PRIMEAUX']['geometry'].iloc[0]\n",
    "\n",
    "polys = gpd.GeoSeries({\n",
    "    'rag': poly_rag,\n",
    "    'roi': poly_roi,\n",
    "    'pet': poly_pet\n",
    "})"
   ],
   "metadata": {
    "collapsed": false,
    "pycharm": {
     "name": "#%%\n"
    }
   }
  },
  {
   "cell_type": "markdown",
   "source": [
    "## Batiment de production"
   ],
   "metadata": {
    "collapsed": false,
    "pycharm": {
     "name": "#%% md\n"
    }
   }
  },
  {
   "cell_type": "code",
   "execution_count": 195,
   "outputs": [
    {
     "data": {
      "text/plain": "          fid              id_bat               epci code_epci  \\\n0       651.0   BAT_SYDELA_516742  CC SEVRE ET LOIRE     CC_SL   \n1      3192.0   BAT_SYDELA_516121  CC SEVRE ET LOIRE     CC_SL   \n2      7908.0   BAT_SYDELA_480297  CC SEVRE ET LOIRE     CC_SL   \n3     14549.0   BAT_SYDELA_483161  CC SEVRE ET LOIRE     CC_SL   \n4     14811.0   BAT_SYDELA_478920  CC SEVRE ET LOIRE     CC_SL   \n..        ...                 ...                ...       ...   \n591  207293.0   BAT_SYDELA_489195  CC SEVRE ET LOIRE     CC_SL   \n592  209682.0   BAT_SYDELA_480142  CC SEVRE ET LOIRE     CC_SL   \n593  213352.0   BAT_SYDELA_480998  CC SEVRE ET LOIRE     CC_SL   \n594  222567.0  BAT_SYDELA_1109161  CC SEVRE ET LOIRE     CC_SL   \n595  222737.0   BAT_SYDELA_478769  CC SEVRE ET LOIRE     CC_SL   \n\n                       commune  code_comm             nom_iris  code_iris  \\\n0            DIVATTE-SUR-LOIRE      44029          LES COTEAUX  440290102   \n1                    MOUZILLON      44108            MOUZILLON          0   \n2    SAINT-JULIEN-DE-CONCELLES      44169            LA VALLEE  441690102   \n3    SAINT-JULIEN-DE-CONCELLES      44169            LA VALLEE  441690102   \n4          LE LOROUX-BOTTEREAU      44084  LE LOROUX-BOTTEREAU          0   \n..                         ...        ...                  ...        ...   \n591          DIVATTE-SUR-LOIRE      44029          LES COTEAUX  440290102   \n592          DIVATTE-SUR-LOIRE      44029            LA VALLEE  440290101   \n593  SAINT-JULIEN-DE-CONCELLES      44169            LA VALLEE  441690102   \n594  SAINT-JULIEN-DE-CONCELLES      44169           LES CHAMPS  441690103   \n595          DIVATTE-SUR-LOIRE      44029            LA VALLEE  440290101   \n\n    src_bat                 id_bdtopo  ... puiss_pv    eco_ges class_puis  \\\n0      None  BATIMENT0000000309703482  ...   132.63   693.7991          5   \n1      None  BATIMENT0000000309702154  ...   109.80   641.9316          5   \n2      None  BATIMENT0000002011314593  ...   163.10   831.4568          6   \n3      None  BATIMENT0000000308879859  ...   395.57  1998.7974          7   \n4      None  BATIMENT0000000309701277  ...   150.09   845.1422          6   \n..      ...                       ...  ...      ...        ...        ...   \n591    None  BATIMENT0000000308879479  ...   117.58   678.2641          5   \n592    None  BATIMENT0000000309664024  ...   215.39  1114.9020          6   \n593    None  BATIMENT0000002011319890  ...   904.87  4437.3573          8   \n594    None                      None  ...   182.18   956.7445          6   \n595    None  BATIMENT0000000309666891  ...   851.97  4375.2400          8   \n\n                                    layer  \\\n0                     Batiments agricoles   \n1                     Batiments agricoles   \n2                     Batiments agricoles   \n3                     Batiments agricoles   \n4                     Batiments agricoles   \n..                                    ...   \n591  Indeterminés (dont serres agricoles)   \n592  Indeterminés (dont serres agricoles)   \n593  Indeterminés (dont serres agricoles)   \n594  Indeterminés (dont serres agricoles)   \n595  Indeterminés (dont serres agricoles)   \n\n                                                  path  \\\n0    E:/MEDAS/données massives spatialisées/SYDELA/...   \n1    E:/MEDAS/données massives spatialisées/SYDELA/...   \n2    E:/MEDAS/données massives spatialisées/SYDELA/...   \n3    E:/MEDAS/données massives spatialisées/SYDELA/...   \n4    E:/MEDAS/données massives spatialisées/SYDELA/...   \n..                                                 ...   \n591  E:/MEDAS/données massives spatialisées/SYDELA/...   \n592  E:/MEDAS/données massives spatialisées/SYDELA/...   \n593  E:/MEDAS/données massives spatialisées/SYDELA/...   \n594  E:/MEDAS/données massives spatialisées/SYDELA/...   \n595  E:/MEDAS/données massives spatialisées/SYDELA/...   \n\n                                              geometry  \\\n0    POLYGON ((371777.401 6693592.100, 371799.601 6...   \n1    POLYGON ((375619.173 6679606.739, 375618.334 6...   \n2    POLYGON ((368279.992 6694661.854, 368279.900 6...   \n3    POLYGON ((368335.953 6694650.597, 368335.800 6...   \n4    POLYGON ((375114.100 6691960.300, 375111.500 6...   \n..                                                 ...   \n591  POLYGON ((373411.361 6697255.167, 373410.799 6...   \n592  POLYGON ((368532.031 6694993.396, 368532.400 6...   \n593  POLYGON ((363355.230 6691550.840, 363346.500 6...   \n594  POLYGON ((366936.703 6692039.264, 366939.680 6...   \n595  POLYGON ((369915.900 6695220.200, 369914.500 6...   \n\n                           centroid    rag    roi    pet  \n0    POINT (371784.064 6693570.346)  False  False  False  \n1    POINT (375613.623 6679620.299)  False  False  False  \n2    POINT (368291.170 6694686.131)  False  False  False  \n3    POINT (368349.715 6694685.794)  False  False  False  \n4    POINT (375092.491 6691949.861)  False  False  False  \n..                              ...    ...    ...    ...  \n591  POINT (373444.649 6697281.422)  False  False  False  \n592  POINT (368487.564 6695055.576)  False  False  False  \n593  POINT (363365.700 6691616.047)  False  False  False  \n594  POINT (366913.549 6692032.674)  False  False  False  \n595  POINT (369869.000 6695184.517)  False  False  False  \n\n[596 rows x 99 columns]",
      "text/html": "<div>\n<style scoped>\n    .dataframe tbody tr th:only-of-type {\n        vertical-align: middle;\n    }\n\n    .dataframe tbody tr th {\n        vertical-align: top;\n    }\n\n    .dataframe thead th {\n        text-align: right;\n    }\n</style>\n<table border=\"1\" class=\"dataframe\">\n  <thead>\n    <tr style=\"text-align: right;\">\n      <th></th>\n      <th>fid</th>\n      <th>id_bat</th>\n      <th>epci</th>\n      <th>code_epci</th>\n      <th>commune</th>\n      <th>code_comm</th>\n      <th>nom_iris</th>\n      <th>code_iris</th>\n      <th>src_bat</th>\n      <th>id_bdtopo</th>\n      <th>...</th>\n      <th>puiss_pv</th>\n      <th>eco_ges</th>\n      <th>class_puis</th>\n      <th>layer</th>\n      <th>path</th>\n      <th>geometry</th>\n      <th>centroid</th>\n      <th>rag</th>\n      <th>roi</th>\n      <th>pet</th>\n    </tr>\n  </thead>\n  <tbody>\n    <tr>\n      <th>0</th>\n      <td>651.0</td>\n      <td>BAT_SYDELA_516742</td>\n      <td>CC SEVRE ET LOIRE</td>\n      <td>CC_SL</td>\n      <td>DIVATTE-SUR-LOIRE</td>\n      <td>44029</td>\n      <td>LES COTEAUX</td>\n      <td>440290102</td>\n      <td>None</td>\n      <td>BATIMENT0000000309703482</td>\n      <td>...</td>\n      <td>132.63</td>\n      <td>693.7991</td>\n      <td>5</td>\n      <td>Batiments agricoles</td>\n      <td>E:/MEDAS/données massives spatialisées/SYDELA/...</td>\n      <td>POLYGON ((371777.401 6693592.100, 371799.601 6...</td>\n      <td>POINT (371784.064 6693570.346)</td>\n      <td>False</td>\n      <td>False</td>\n      <td>False</td>\n    </tr>\n    <tr>\n      <th>1</th>\n      <td>3192.0</td>\n      <td>BAT_SYDELA_516121</td>\n      <td>CC SEVRE ET LOIRE</td>\n      <td>CC_SL</td>\n      <td>MOUZILLON</td>\n      <td>44108</td>\n      <td>MOUZILLON</td>\n      <td>0</td>\n      <td>None</td>\n      <td>BATIMENT0000000309702154</td>\n      <td>...</td>\n      <td>109.80</td>\n      <td>641.9316</td>\n      <td>5</td>\n      <td>Batiments agricoles</td>\n      <td>E:/MEDAS/données massives spatialisées/SYDELA/...</td>\n      <td>POLYGON ((375619.173 6679606.739, 375618.334 6...</td>\n      <td>POINT (375613.623 6679620.299)</td>\n      <td>False</td>\n      <td>False</td>\n      <td>False</td>\n    </tr>\n    <tr>\n      <th>2</th>\n      <td>7908.0</td>\n      <td>BAT_SYDELA_480297</td>\n      <td>CC SEVRE ET LOIRE</td>\n      <td>CC_SL</td>\n      <td>SAINT-JULIEN-DE-CONCELLES</td>\n      <td>44169</td>\n      <td>LA VALLEE</td>\n      <td>441690102</td>\n      <td>None</td>\n      <td>BATIMENT0000002011314593</td>\n      <td>...</td>\n      <td>163.10</td>\n      <td>831.4568</td>\n      <td>6</td>\n      <td>Batiments agricoles</td>\n      <td>E:/MEDAS/données massives spatialisées/SYDELA/...</td>\n      <td>POLYGON ((368279.992 6694661.854, 368279.900 6...</td>\n      <td>POINT (368291.170 6694686.131)</td>\n      <td>False</td>\n      <td>False</td>\n      <td>False</td>\n    </tr>\n    <tr>\n      <th>3</th>\n      <td>14549.0</td>\n      <td>BAT_SYDELA_483161</td>\n      <td>CC SEVRE ET LOIRE</td>\n      <td>CC_SL</td>\n      <td>SAINT-JULIEN-DE-CONCELLES</td>\n      <td>44169</td>\n      <td>LA VALLEE</td>\n      <td>441690102</td>\n      <td>None</td>\n      <td>BATIMENT0000000308879859</td>\n      <td>...</td>\n      <td>395.57</td>\n      <td>1998.7974</td>\n      <td>7</td>\n      <td>Batiments agricoles</td>\n      <td>E:/MEDAS/données massives spatialisées/SYDELA/...</td>\n      <td>POLYGON ((368335.953 6694650.597, 368335.800 6...</td>\n      <td>POINT (368349.715 6694685.794)</td>\n      <td>False</td>\n      <td>False</td>\n      <td>False</td>\n    </tr>\n    <tr>\n      <th>4</th>\n      <td>14811.0</td>\n      <td>BAT_SYDELA_478920</td>\n      <td>CC SEVRE ET LOIRE</td>\n      <td>CC_SL</td>\n      <td>LE LOROUX-BOTTEREAU</td>\n      <td>44084</td>\n      <td>LE LOROUX-BOTTEREAU</td>\n      <td>0</td>\n      <td>None</td>\n      <td>BATIMENT0000000309701277</td>\n      <td>...</td>\n      <td>150.09</td>\n      <td>845.1422</td>\n      <td>6</td>\n      <td>Batiments agricoles</td>\n      <td>E:/MEDAS/données massives spatialisées/SYDELA/...</td>\n      <td>POLYGON ((375114.100 6691960.300, 375111.500 6...</td>\n      <td>POINT (375092.491 6691949.861)</td>\n      <td>False</td>\n      <td>False</td>\n      <td>False</td>\n    </tr>\n    <tr>\n      <th>...</th>\n      <td>...</td>\n      <td>...</td>\n      <td>...</td>\n      <td>...</td>\n      <td>...</td>\n      <td>...</td>\n      <td>...</td>\n      <td>...</td>\n      <td>...</td>\n      <td>...</td>\n      <td>...</td>\n      <td>...</td>\n      <td>...</td>\n      <td>...</td>\n      <td>...</td>\n      <td>...</td>\n      <td>...</td>\n      <td>...</td>\n      <td>...</td>\n      <td>...</td>\n      <td>...</td>\n    </tr>\n    <tr>\n      <th>591</th>\n      <td>207293.0</td>\n      <td>BAT_SYDELA_489195</td>\n      <td>CC SEVRE ET LOIRE</td>\n      <td>CC_SL</td>\n      <td>DIVATTE-SUR-LOIRE</td>\n      <td>44029</td>\n      <td>LES COTEAUX</td>\n      <td>440290102</td>\n      <td>None</td>\n      <td>BATIMENT0000000308879479</td>\n      <td>...</td>\n      <td>117.58</td>\n      <td>678.2641</td>\n      <td>5</td>\n      <td>Indeterminés (dont serres agricoles)</td>\n      <td>E:/MEDAS/données massives spatialisées/SYDELA/...</td>\n      <td>POLYGON ((373411.361 6697255.167, 373410.799 6...</td>\n      <td>POINT (373444.649 6697281.422)</td>\n      <td>False</td>\n      <td>False</td>\n      <td>False</td>\n    </tr>\n    <tr>\n      <th>592</th>\n      <td>209682.0</td>\n      <td>BAT_SYDELA_480142</td>\n      <td>CC SEVRE ET LOIRE</td>\n      <td>CC_SL</td>\n      <td>DIVATTE-SUR-LOIRE</td>\n      <td>44029</td>\n      <td>LA VALLEE</td>\n      <td>440290101</td>\n      <td>None</td>\n      <td>BATIMENT0000000309664024</td>\n      <td>...</td>\n      <td>215.39</td>\n      <td>1114.9020</td>\n      <td>6</td>\n      <td>Indeterminés (dont serres agricoles)</td>\n      <td>E:/MEDAS/données massives spatialisées/SYDELA/...</td>\n      <td>POLYGON ((368532.031 6694993.396, 368532.400 6...</td>\n      <td>POINT (368487.564 6695055.576)</td>\n      <td>False</td>\n      <td>False</td>\n      <td>False</td>\n    </tr>\n    <tr>\n      <th>593</th>\n      <td>213352.0</td>\n      <td>BAT_SYDELA_480998</td>\n      <td>CC SEVRE ET LOIRE</td>\n      <td>CC_SL</td>\n      <td>SAINT-JULIEN-DE-CONCELLES</td>\n      <td>44169</td>\n      <td>LA VALLEE</td>\n      <td>441690102</td>\n      <td>None</td>\n      <td>BATIMENT0000002011319890</td>\n      <td>...</td>\n      <td>904.87</td>\n      <td>4437.3573</td>\n      <td>8</td>\n      <td>Indeterminés (dont serres agricoles)</td>\n      <td>E:/MEDAS/données massives spatialisées/SYDELA/...</td>\n      <td>POLYGON ((363355.230 6691550.840, 363346.500 6...</td>\n      <td>POINT (363365.700 6691616.047)</td>\n      <td>False</td>\n      <td>False</td>\n      <td>False</td>\n    </tr>\n    <tr>\n      <th>594</th>\n      <td>222567.0</td>\n      <td>BAT_SYDELA_1109161</td>\n      <td>CC SEVRE ET LOIRE</td>\n      <td>CC_SL</td>\n      <td>SAINT-JULIEN-DE-CONCELLES</td>\n      <td>44169</td>\n      <td>LES CHAMPS</td>\n      <td>441690103</td>\n      <td>None</td>\n      <td>None</td>\n      <td>...</td>\n      <td>182.18</td>\n      <td>956.7445</td>\n      <td>6</td>\n      <td>Indeterminés (dont serres agricoles)</td>\n      <td>E:/MEDAS/données massives spatialisées/SYDELA/...</td>\n      <td>POLYGON ((366936.703 6692039.264, 366939.680 6...</td>\n      <td>POINT (366913.549 6692032.674)</td>\n      <td>False</td>\n      <td>False</td>\n      <td>False</td>\n    </tr>\n    <tr>\n      <th>595</th>\n      <td>222737.0</td>\n      <td>BAT_SYDELA_478769</td>\n      <td>CC SEVRE ET LOIRE</td>\n      <td>CC_SL</td>\n      <td>DIVATTE-SUR-LOIRE</td>\n      <td>44029</td>\n      <td>LA VALLEE</td>\n      <td>440290101</td>\n      <td>None</td>\n      <td>BATIMENT0000000309666891</td>\n      <td>...</td>\n      <td>851.97</td>\n      <td>4375.2400</td>\n      <td>8</td>\n      <td>Indeterminés (dont serres agricoles)</td>\n      <td>E:/MEDAS/données massives spatialisées/SYDELA/...</td>\n      <td>POLYGON ((369915.900 6695220.200, 369914.500 6...</td>\n      <td>POINT (369869.000 6695184.517)</td>\n      <td>False</td>\n      <td>False</td>\n      <td>False</td>\n    </tr>\n  </tbody>\n</table>\n<p>596 rows × 99 columns</p>\n</div>"
     },
     "execution_count": 195,
     "metadata": {},
     "output_type": "execute_result"
    }
   ],
   "source": [
    "gdf_prod = gpd.read_file('data/site_de_production/sites_production_sup_100kw_2154.shp')\n",
    "\n",
    "gdf_prod['centroid'] = gdf_prod['geometry'].centroid\n",
    "gdf_prod = gdf_prod.assign(**{key: gdf_prod['centroid'].within(geom) for key, geom in polys.items()})\n",
    "gdf_prod"
   ],
   "metadata": {
    "collapsed": false,
    "pycharm": {
     "name": "#%%\n"
    }
   }
  },
  {
   "cell_type": "markdown",
   "source": [],
   "metadata": {
    "collapsed": false,
    "pycharm": {
     "name": "#%% md\n"
    }
   }
  },
  {
   "cell_type": "markdown",
   "source": [
    "## Batiment de consommation"
   ],
   "metadata": {
    "collapsed": false,
    "pycharm": {
     "name": "#%% md\n"
    }
   }
  },
  {
   "cell_type": "code",
   "execution_count": 309,
   "outputs": [
    {
     "data": {
      "text/plain": "                                          ID de la z            Nom de l'o  \\\n0       44-BOI-001 - 44-BOI-001-001 - AGENCE POSTALE  LA-BOISSIERE-DU-DORE   \n1    44-BOI-002 - 44-BOI-002-001 - ATELIER MUNICIPAL  LA-BOISSIERE-DU-DORE   \n2    44-BOI-003 - 44-BOI-003-001 - ATELIER TECHNIQUE  LA-BOISSIERE-DU-DORE   \n3               44-BOI-004 - 44-BOI-004-001 - MAIRIE  LA-BOISSIERE-DU-DORE   \n4        44-BOI-005 - 44-BOI-005-001 - SALLE BUXERIA  LA-BOISSIERE-DU-DORE   \n..                                               ...                   ...   \n994                                             None                  None   \n995                                             None                  None   \n996                                             None                  None   \n997                                             None                  None   \n998                                             None                  None   \n\n                                Nom de l'E   Année          Nom de la  \\\n0    COMMUNAUTE DE COMMUNES SEVRE ET LOIRE  2019.0     AGENCE POSTALE   \n1    COMMUNAUTE DE COMMUNES SEVRE ET LOIRE  2019.0       BIBLIOTHEQUE   \n2    COMMUNAUTE DE COMMUNES SEVRE ET LOIRE  2019.0  ATELIER TECHNIQUE   \n3    COMMUNAUTE DE COMMUNES SEVRE ET LOIRE  2019.0             MAIRIE   \n4    COMMUNAUTE DE COMMUNES SEVRE ET LOIRE  2019.0      SALLE BUXERIA   \n..                                     ...     ...                ...   \n994                                   None     NaN               None   \n995                                   None     NaN               None   \n996                                   None     NaN               None   \n997                                   None     NaN               None   \n998                                   None     NaN               None   \n\n                                                 Usage  \\\n0    Autres services (maison de services au public,...   \n1    Ateliers/centres techniques municipaux/serres ...   \n2    Ateliers/centres techniques municipaux/serres ...   \n3    Services administratifs communaux (mairie, mai...   \n4    Locaux communaux (local, foyer des jeunes, loc...   \n..                                                 ...   \n994                                               None   \n995                                               None   \n996                                               None   \n997                                               None   \n998                                               None   \n\n                                             Actvité p Année de Décret Ec  \\\n0    Autres services administratifs (hors services ...     None      None   \n1       Batiments techniques communaux (hors services)     None      None   \n2       Batiments techniques communaux (hors services)     None      None   \n3        Bâtiments administratifs communaux (services)     None      None   \n4                          Equipements socio-culturels     None      None   \n..                                                 ...      ...       ...   \n994                                               None     None      None   \n995                                               None     None      None   \n996                                               None     None      None   \n997                                               None     None      None   \n998                                               None     None      None   \n\n     Surface to Energie de  Consommati  Conso surf Comptage h Consomma_1  \\\n0           NaN       None    2.506658         NaN        Oui       None   \n1           NaN       None   23.991839         NaN        Oui       None   \n2           NaN       None    5.312562         NaN        Oui       None   \n3           NaN       None    4.365427         NaN        Oui       None   \n4           NaN       None   15.322747         NaN        Oui       None   \n..          ...        ...         ...         ...        ...        ...   \n994         NaN       None         NaN         NaN       None       None   \n995         NaN       None         NaN         NaN       None       None   \n996         NaN       None         NaN         NaN       None       None   \n997         NaN       None         NaN         NaN       None       None   \n998         NaN       None         NaN         NaN       None       None   \n\n                                              new_name  \\\n0    Service public et administratif Autre service ...   \n1    Service public et administratif Autre service ...   \n2    Service public et administratif Autre service ...   \n3    Service public et administratif Administration...   \n4       Socio-culturel Autre équipement socio-culturel   \n..                                                 ...   \n994                                               None   \n995                                               None   \n996                                               None   \n997                                               None   \n998                                               None   \n\n                           geometry  \n0    POINT (380815.528 6689852.629)  \n1    POINT (381051.660 6689700.865)  \n2    POINT (381079.157 6690140.795)  \n3    POINT (381006.641 6689803.252)  \n4    POINT (380980.908 6689950.849)  \n..                              ...  \n994   POINT (253531.131 909838.931)  \n995   POINT (253531.131 909838.931)  \n996   POINT (253531.131 909838.931)  \n997   POINT (253531.131 909838.931)  \n998   POINT (253531.131 909838.931)  \n\n[999 rows x 17 columns]",
      "text/html": "<div>\n<style scoped>\n    .dataframe tbody tr th:only-of-type {\n        vertical-align: middle;\n    }\n\n    .dataframe tbody tr th {\n        vertical-align: top;\n    }\n\n    .dataframe thead th {\n        text-align: right;\n    }\n</style>\n<table border=\"1\" class=\"dataframe\">\n  <thead>\n    <tr style=\"text-align: right;\">\n      <th></th>\n      <th>ID de la z</th>\n      <th>Nom de l'o</th>\n      <th>Nom de l'E</th>\n      <th>Année</th>\n      <th>Nom de la</th>\n      <th>Usage</th>\n      <th>Actvité p</th>\n      <th>Année de</th>\n      <th>Décret Ec</th>\n      <th>Surface to</th>\n      <th>Energie de</th>\n      <th>Consommati</th>\n      <th>Conso surf</th>\n      <th>Comptage h</th>\n      <th>Consomma_1</th>\n      <th>new_name</th>\n      <th>geometry</th>\n    </tr>\n  </thead>\n  <tbody>\n    <tr>\n      <th>0</th>\n      <td>44-BOI-001 - 44-BOI-001-001 - AGENCE POSTALE</td>\n      <td>LA-BOISSIERE-DU-DORE</td>\n      <td>COMMUNAUTE DE COMMUNES SEVRE ET LOIRE</td>\n      <td>2019.0</td>\n      <td>AGENCE POSTALE</td>\n      <td>Autres services (maison de services au public,...</td>\n      <td>Autres services administratifs (hors services ...</td>\n      <td>None</td>\n      <td>None</td>\n      <td>NaN</td>\n      <td>None</td>\n      <td>2.506658</td>\n      <td>NaN</td>\n      <td>Oui</td>\n      <td>None</td>\n      <td>Service public et administratif Autre service ...</td>\n      <td>POINT (380815.528 6689852.629)</td>\n    </tr>\n    <tr>\n      <th>1</th>\n      <td>44-BOI-002 - 44-BOI-002-001 - ATELIER MUNICIPAL</td>\n      <td>LA-BOISSIERE-DU-DORE</td>\n      <td>COMMUNAUTE DE COMMUNES SEVRE ET LOIRE</td>\n      <td>2019.0</td>\n      <td>BIBLIOTHEQUE</td>\n      <td>Ateliers/centres techniques municipaux/serres ...</td>\n      <td>Batiments techniques communaux (hors services)</td>\n      <td>None</td>\n      <td>None</td>\n      <td>NaN</td>\n      <td>None</td>\n      <td>23.991839</td>\n      <td>NaN</td>\n      <td>Oui</td>\n      <td>None</td>\n      <td>Service public et administratif Autre service ...</td>\n      <td>POINT (381051.660 6689700.865)</td>\n    </tr>\n    <tr>\n      <th>2</th>\n      <td>44-BOI-003 - 44-BOI-003-001 - ATELIER TECHNIQUE</td>\n      <td>LA-BOISSIERE-DU-DORE</td>\n      <td>COMMUNAUTE DE COMMUNES SEVRE ET LOIRE</td>\n      <td>2019.0</td>\n      <td>ATELIER TECHNIQUE</td>\n      <td>Ateliers/centres techniques municipaux/serres ...</td>\n      <td>Batiments techniques communaux (hors services)</td>\n      <td>None</td>\n      <td>None</td>\n      <td>NaN</td>\n      <td>None</td>\n      <td>5.312562</td>\n      <td>NaN</td>\n      <td>Oui</td>\n      <td>None</td>\n      <td>Service public et administratif Autre service ...</td>\n      <td>POINT (381079.157 6690140.795)</td>\n    </tr>\n    <tr>\n      <th>3</th>\n      <td>44-BOI-004 - 44-BOI-004-001 - MAIRIE</td>\n      <td>LA-BOISSIERE-DU-DORE</td>\n      <td>COMMUNAUTE DE COMMUNES SEVRE ET LOIRE</td>\n      <td>2019.0</td>\n      <td>MAIRIE</td>\n      <td>Services administratifs communaux (mairie, mai...</td>\n      <td>Bâtiments administratifs communaux (services)</td>\n      <td>None</td>\n      <td>None</td>\n      <td>NaN</td>\n      <td>None</td>\n      <td>4.365427</td>\n      <td>NaN</td>\n      <td>Oui</td>\n      <td>None</td>\n      <td>Service public et administratif Administration...</td>\n      <td>POINT (381006.641 6689803.252)</td>\n    </tr>\n    <tr>\n      <th>4</th>\n      <td>44-BOI-005 - 44-BOI-005-001 - SALLE BUXERIA</td>\n      <td>LA-BOISSIERE-DU-DORE</td>\n      <td>COMMUNAUTE DE COMMUNES SEVRE ET LOIRE</td>\n      <td>2019.0</td>\n      <td>SALLE BUXERIA</td>\n      <td>Locaux communaux (local, foyer des jeunes, loc...</td>\n      <td>Equipements socio-culturels</td>\n      <td>None</td>\n      <td>None</td>\n      <td>NaN</td>\n      <td>None</td>\n      <td>15.322747</td>\n      <td>NaN</td>\n      <td>Oui</td>\n      <td>None</td>\n      <td>Socio-culturel Autre équipement socio-culturel</td>\n      <td>POINT (380980.908 6689950.849)</td>\n    </tr>\n    <tr>\n      <th>...</th>\n      <td>...</td>\n      <td>...</td>\n      <td>...</td>\n      <td>...</td>\n      <td>...</td>\n      <td>...</td>\n      <td>...</td>\n      <td>...</td>\n      <td>...</td>\n      <td>...</td>\n      <td>...</td>\n      <td>...</td>\n      <td>...</td>\n      <td>...</td>\n      <td>...</td>\n      <td>...</td>\n      <td>...</td>\n    </tr>\n    <tr>\n      <th>994</th>\n      <td>None</td>\n      <td>None</td>\n      <td>None</td>\n      <td>NaN</td>\n      <td>None</td>\n      <td>None</td>\n      <td>None</td>\n      <td>None</td>\n      <td>None</td>\n      <td>NaN</td>\n      <td>None</td>\n      <td>NaN</td>\n      <td>NaN</td>\n      <td>None</td>\n      <td>None</td>\n      <td>None</td>\n      <td>POINT (253531.131 909838.931)</td>\n    </tr>\n    <tr>\n      <th>995</th>\n      <td>None</td>\n      <td>None</td>\n      <td>None</td>\n      <td>NaN</td>\n      <td>None</td>\n      <td>None</td>\n      <td>None</td>\n      <td>None</td>\n      <td>None</td>\n      <td>NaN</td>\n      <td>None</td>\n      <td>NaN</td>\n      <td>NaN</td>\n      <td>None</td>\n      <td>None</td>\n      <td>None</td>\n      <td>POINT (253531.131 909838.931)</td>\n    </tr>\n    <tr>\n      <th>996</th>\n      <td>None</td>\n      <td>None</td>\n      <td>None</td>\n      <td>NaN</td>\n      <td>None</td>\n      <td>None</td>\n      <td>None</td>\n      <td>None</td>\n      <td>None</td>\n      <td>NaN</td>\n      <td>None</td>\n      <td>NaN</td>\n      <td>NaN</td>\n      <td>None</td>\n      <td>None</td>\n      <td>None</td>\n      <td>POINT (253531.131 909838.931)</td>\n    </tr>\n    <tr>\n      <th>997</th>\n      <td>None</td>\n      <td>None</td>\n      <td>None</td>\n      <td>NaN</td>\n      <td>None</td>\n      <td>None</td>\n      <td>None</td>\n      <td>None</td>\n      <td>None</td>\n      <td>NaN</td>\n      <td>None</td>\n      <td>NaN</td>\n      <td>NaN</td>\n      <td>None</td>\n      <td>None</td>\n      <td>None</td>\n      <td>POINT (253531.131 909838.931)</td>\n    </tr>\n    <tr>\n      <th>998</th>\n      <td>None</td>\n      <td>None</td>\n      <td>None</td>\n      <td>NaN</td>\n      <td>None</td>\n      <td>None</td>\n      <td>None</td>\n      <td>None</td>\n      <td>None</td>\n      <td>NaN</td>\n      <td>None</td>\n      <td>NaN</td>\n      <td>NaN</td>\n      <td>None</td>\n      <td>None</td>\n      <td>None</td>\n      <td>POINT (253531.131 909838.931)</td>\n    </tr>\n  </tbody>\n</table>\n<p>999 rows × 17 columns</p>\n</div>"
     },
     "execution_count": 309,
     "metadata": {},
     "output_type": "execute_result"
    }
   ],
   "source": [
    "gdf_conso_annuelle = gpd.read_file('data/conso_bati_annuelle/vdef_conso_bati_public.shp')\n",
    "gdf_conso_annuelle"
   ],
   "metadata": {
    "collapsed": false,
    "pycharm": {
     "name": "#%%\n"
    }
   }
  },
  {
   "cell_type": "markdown",
   "source": [
    "## Note opérateur"
   ],
   "metadata": {
    "collapsed": false,
    "pycharm": {
     "name": "#%% md\n"
    }
   }
  },
  {
   "cell_type": "code",
   "execution_count": 237,
   "outputs": [],
   "source": [
    "df_note = pd.read_excel('data/SYDELA/4- 20220925_Typologie-note-elec_EBO.xlsx', sheet_name='TYPOLOGIE BATI VF', header=1)\n",
    "df_note = df_note.fillna(method='ffill')"
   ],
   "metadata": {
    "collapsed": false,
    "pycharm": {
     "name": "#%%\n"
    }
   }
  },
  {
   "cell_type": "code",
   "execution_count": 252,
   "outputs": [],
   "source": [
    "df_note['new_name'] = list(df_note['Usage'] +  ' ' + df_note['Détail'])"
   ],
   "metadata": {
    "collapsed": false,
    "pycharm": {
     "name": "#%%\n"
    }
   }
  },
  {
   "cell_type": "markdown",
   "source": [
    "# Calcul"
   ],
   "metadata": {
    "collapsed": false,
    "pycharm": {
     "name": "#%% md\n"
    }
   }
  },
  {
   "cell_type": "code",
   "execution_count": 247,
   "outputs": [],
   "source": [
    "gdf_prod_zone = gdf_prod[gdf_prod['rag'] == True]"
   ],
   "metadata": {
    "collapsed": false,
    "pycharm": {
     "name": "#%%\n"
    }
   }
  },
  {
   "cell_type": "code",
   "execution_count": 356,
   "outputs": [
    {
     "name": "stderr",
     "output_type": "stream",
     "text": [
      "c:\\users\\flore\\documents\\medas\\geocomputation\\venv\\lib\\site-packages\\geopandas\\geodataframe.py:1472: SettingWithCopyWarning: \n",
      "A value is trying to be set on a copy of a slice from a DataFrame.\n",
      "Try using .loc[row_indexer,col_indexer] = value instead\n",
      "\n",
      "See the caveats in the documentation: https://pandas.pydata.org/pandas-docs/stable/user_guide/indexing.html#returning-a-view-versus-a-copy\n",
      "  super().__setitem__(key, value)\n"
     ]
    }
   ],
   "source": [
    "gdf_prod_zone['circle_2km'] = gdf_prod_zone['centroid'].buffer(2000, 2)"
   ],
   "metadata": {
    "collapsed": false,
    "pycharm": {
     "name": "#%%\n"
    }
   }
  },
  {
   "cell_type": "code",
   "execution_count": 357,
   "outputs": [
    {
     "data": {
      "text/plain": "<shapely.geometry.polygon.Polygon at 0x1890ba36fd0>",
      "image/svg+xml": "<svg xmlns=\"http://www.w3.org/2000/svg\" xmlns:xlink=\"http://www.w3.org/1999/xlink\" width=\"300\" height=\"300\" viewBox=\"367899.7774426505 6681547.790959462 4320.0 4320.0\" preserveAspectRatio=\"xMinYMin meet\"><g transform=\"matrix(1,0,0,-1,0,13367415.581918923)\"><path fill-rule=\"evenodd\" fill=\"#66cc99\" stroke=\"#555555\" stroke-width=\"28.8\" opacity=\"0.6\" d=\"M 372059.7774426505,6683707.790959462 L 371473.9910050236,6682293.5773970885 L 370059.7774426505,6681707.790959462 L 368645.56388027745,6682293.5773970885 L 368059.7774426505,6683707.790959462 L 368645.56388027745,6685122.004521835 L 370059.7774426505,6685707.790959462 L 371473.9910050236,6685122.004521835 L 372059.7774426505,6683707.790959462 z\" /></g></svg>"
     },
     "execution_count": 357,
     "metadata": {},
     "output_type": "execute_result"
    }
   ],
   "source": [
    "gdf_prod_zone['circle_2km'][20]"
   ],
   "metadata": {
    "collapsed": false,
    "pycharm": {
     "name": "#%%\n"
    }
   }
  },
  {
   "cell_type": "code",
   "execution_count": 337,
   "outputs": [],
   "source": [
    "df_bati_prod = gdf_prod_zone.iloc[0]\n",
    "circle_2km = df_bati_prod['circle_2km']\n",
    "prod_bati = df_bati_prod['pot_pv'] / 1000\n",
    "gdf_conso_annuelle_zone = gdf_conso_annuelle[gdf_conso_annuelle['geometry'].within(circle_2km) == True]"
   ],
   "metadata": {
    "collapsed": false,
    "pycharm": {
     "name": "#%%\n"
    }
   }
  },
  {
   "cell_type": "code",
   "execution_count": null,
   "outputs": [],
   "source": [],
   "metadata": {
    "collapsed": false,
    "pycharm": {
     "name": "#%%\n"
    }
   }
  },
  {
   "cell_type": "code",
   "execution_count": 338,
   "outputs": [],
   "source": [
    "gdf_conso_annuelle_zone = gdf_conso_annuelle_zone.merge(df_note, how='left', on='new_name')\n",
    "gdf_conso_annuelle_zone = gdf_conso_annuelle_zone[['ID de la z', \"Nom de l'o\", 'Nom de la', 'Actvité p', 'Consommati', 'geometry', 'Note de compatibilité profil électrique ACC (1-10)']]\n",
    "gdf_conso_annuelle_zone.columns = ['id', 'nom_ville', 'nom_bati', 'activite', 'conso_annuelle', 'point', 'note']"
   ],
   "metadata": {
    "collapsed": false,
    "pycharm": {
     "name": "#%%\n"
    }
   }
  },
  {
   "cell_type": "code",
   "execution_count": 339,
   "outputs": [],
   "source": [
    "gdf_conso_annuelle_zone_sort = gdf_conso_annuelle_zone.sort_values(by='note', ascending=False)\n",
    "gdf_conso_annuelle_zone_sort['conso_cum'] = gdf_conso_annuelle_zone_sort['conso_annuelle'].cumsum()"
   ],
   "metadata": {
    "collapsed": false,
    "pycharm": {
     "name": "#%%\n"
    }
   }
  },
  {
   "cell_type": "code",
   "execution_count": 340,
   "outputs": [
    {
     "data": {
      "text/plain": "                                                  id           nom_ville  \\\n2      44-CHH-00444-CHH-004- 001-ATELIERS MUNICIPAUX  LA-CHAPELLE-HEULIN   \n1                   44-CHH-00244-CHH-002- 001-MAIRIE  LA-CHAPELLE-HEULIN   \n0         44-CHH-00144-CHH-001- 001-ECOLE MATERNELLE  LA-CHAPELLE-HEULIN   \n5        44-CHH-00744-CHH-007- 001-ECOLE ELEMENTAIRE  LA-CHAPELLE-HEULIN   \n8  44-CHH-01244-CHH-012- 001-SALLE MANEYROL + RES...  LA-CHAPELLE-HEULIN   \n6   44-CHH-00844-CHH-008- 001-SALLE GEORGETTE DROUET  LA-CHAPELLE-HEULIN   \n7  44-CHH-00944-CHH-009- 001-TERRAIN DES FETES MO...  LA-CHAPELLE-HEULIN   \n3  44-CHH-00544-CHH-005- 001-SALLE SPORTS  (SPORT...  LA-CHAPELLE-HEULIN   \n4       44-CHH-00644-CHH-006- 001-TERRAIN DES SPORTS  LA-CHAPELLE-HEULIN   \n\n                               nom_bati  \\\n2                   ATELIERS MUNICIPAUX   \n1                                MAIRIE   \n0                      ECOLE MATERNELLE   \n5                     ECOLE ELEMENTAIRE   \n8  SALLE MANEYROL + RESTAURANT SCOLAIRE   \n6                SALLE GEORGETTE DROUET   \n7              TERRAIN DES FETES MONTRU   \n3           SALLE SPORTS  (SPORTS, MDJ)   \n4                    TERRAIN DES SPORTS   \n\n                                            activite  conso_annuelle  \\\n2      Bâtiments administratifs communaux (services)       10.969206   \n1      Bâtiments administratifs communaux (services)       12.599429   \n0  Enseignement (écoles, groupes scolaires y comp...       26.105737   \n5  Enseignement (écoles, groupes scolaires y comp...       13.849690   \n8  Enseignement (écoles, groupes scolaires y comp...        0.000000   \n6                        Equipements socio-culturels       14.133059   \n7                        Equipements socio-culturels        0.170773   \n3       Equipements sportifs (intérieurs/extérieurs)       56.404616   \n4       Equipements sportifs (intérieurs/extérieurs)       19.738946   \n\n                            point note   conso_cum  \n2  POINT (371237.275 6684179.468)    7   10.969206  \n1  POINT (371133.172 6683992.648)    6   23.568635  \n0  POINT (371278.889 6683806.189)    5   49.674372  \n5  POINT (371561.715 6683699.975)    5   63.524062  \n8  POINT (371561.715 6683699.975)    5   63.524062  \n6  POINT (371671.097 6684115.830)    2   77.657121  \n7  POINT (369064.427 6684880.223)    2   77.827895  \n3  POINT (371169.089 6684519.926)    0  134.232511  \n4  POINT (371169.089 6684519.926)    0  153.971457  ",
      "text/html": "<div>\n<style scoped>\n    .dataframe tbody tr th:only-of-type {\n        vertical-align: middle;\n    }\n\n    .dataframe tbody tr th {\n        vertical-align: top;\n    }\n\n    .dataframe thead th {\n        text-align: right;\n    }\n</style>\n<table border=\"1\" class=\"dataframe\">\n  <thead>\n    <tr style=\"text-align: right;\">\n      <th></th>\n      <th>id</th>\n      <th>nom_ville</th>\n      <th>nom_bati</th>\n      <th>activite</th>\n      <th>conso_annuelle</th>\n      <th>point</th>\n      <th>note</th>\n      <th>conso_cum</th>\n    </tr>\n  </thead>\n  <tbody>\n    <tr>\n      <th>2</th>\n      <td>44-CHH-00444-CHH-004- 001-ATELIERS MUNICIPAUX</td>\n      <td>LA-CHAPELLE-HEULIN</td>\n      <td>ATELIERS MUNICIPAUX</td>\n      <td>Bâtiments administratifs communaux (services)</td>\n      <td>10.969206</td>\n      <td>POINT (371237.275 6684179.468)</td>\n      <td>7</td>\n      <td>10.969206</td>\n    </tr>\n    <tr>\n      <th>1</th>\n      <td>44-CHH-00244-CHH-002- 001-MAIRIE</td>\n      <td>LA-CHAPELLE-HEULIN</td>\n      <td>MAIRIE</td>\n      <td>Bâtiments administratifs communaux (services)</td>\n      <td>12.599429</td>\n      <td>POINT (371133.172 6683992.648)</td>\n      <td>6</td>\n      <td>23.568635</td>\n    </tr>\n    <tr>\n      <th>0</th>\n      <td>44-CHH-00144-CHH-001- 001-ECOLE MATERNELLE</td>\n      <td>LA-CHAPELLE-HEULIN</td>\n      <td>ECOLE MATERNELLE</td>\n      <td>Enseignement (écoles, groupes scolaires y comp...</td>\n      <td>26.105737</td>\n      <td>POINT (371278.889 6683806.189)</td>\n      <td>5</td>\n      <td>49.674372</td>\n    </tr>\n    <tr>\n      <th>5</th>\n      <td>44-CHH-00744-CHH-007- 001-ECOLE ELEMENTAIRE</td>\n      <td>LA-CHAPELLE-HEULIN</td>\n      <td>ECOLE ELEMENTAIRE</td>\n      <td>Enseignement (écoles, groupes scolaires y comp...</td>\n      <td>13.849690</td>\n      <td>POINT (371561.715 6683699.975)</td>\n      <td>5</td>\n      <td>63.524062</td>\n    </tr>\n    <tr>\n      <th>8</th>\n      <td>44-CHH-01244-CHH-012- 001-SALLE MANEYROL + RES...</td>\n      <td>LA-CHAPELLE-HEULIN</td>\n      <td>SALLE MANEYROL + RESTAURANT SCOLAIRE</td>\n      <td>Enseignement (écoles, groupes scolaires y comp...</td>\n      <td>0.000000</td>\n      <td>POINT (371561.715 6683699.975)</td>\n      <td>5</td>\n      <td>63.524062</td>\n    </tr>\n    <tr>\n      <th>6</th>\n      <td>44-CHH-00844-CHH-008- 001-SALLE GEORGETTE DROUET</td>\n      <td>LA-CHAPELLE-HEULIN</td>\n      <td>SALLE GEORGETTE DROUET</td>\n      <td>Equipements socio-culturels</td>\n      <td>14.133059</td>\n      <td>POINT (371671.097 6684115.830)</td>\n      <td>2</td>\n      <td>77.657121</td>\n    </tr>\n    <tr>\n      <th>7</th>\n      <td>44-CHH-00944-CHH-009- 001-TERRAIN DES FETES MO...</td>\n      <td>LA-CHAPELLE-HEULIN</td>\n      <td>TERRAIN DES FETES MONTRU</td>\n      <td>Equipements socio-culturels</td>\n      <td>0.170773</td>\n      <td>POINT (369064.427 6684880.223)</td>\n      <td>2</td>\n      <td>77.827895</td>\n    </tr>\n    <tr>\n      <th>3</th>\n      <td>44-CHH-00544-CHH-005- 001-SALLE SPORTS  (SPORT...</td>\n      <td>LA-CHAPELLE-HEULIN</td>\n      <td>SALLE SPORTS  (SPORTS, MDJ)</td>\n      <td>Equipements sportifs (intérieurs/extérieurs)</td>\n      <td>56.404616</td>\n      <td>POINT (371169.089 6684519.926)</td>\n      <td>0</td>\n      <td>134.232511</td>\n    </tr>\n    <tr>\n      <th>4</th>\n      <td>44-CHH-00644-CHH-006- 001-TERRAIN DES SPORTS</td>\n      <td>LA-CHAPELLE-HEULIN</td>\n      <td>TERRAIN DES SPORTS</td>\n      <td>Equipements sportifs (intérieurs/extérieurs)</td>\n      <td>19.738946</td>\n      <td>POINT (371169.089 6684519.926)</td>\n      <td>0</td>\n      <td>153.971457</td>\n    </tr>\n  </tbody>\n</table>\n</div>"
     },
     "execution_count": 340,
     "metadata": {},
     "output_type": "execute_result"
    }
   ],
   "source": [
    "gdf_conso_annuelle_zone_sort[gdf_conso_annuelle_zone_sort['conso_cum'] < prod_bati]"
   ],
   "metadata": {
    "collapsed": false,
    "pycharm": {
     "name": "#%%\n"
    }
   }
  },
  {
   "cell_type": "code",
   "execution_count": null,
   "outputs": [],
   "source": [],
   "metadata": {
    "collapsed": false,
    "pycharm": {
     "name": "#%%\n"
    }
   }
  },
  {
   "cell_type": "code",
   "execution_count": null,
   "outputs": [],
   "source": [],
   "metadata": {
    "collapsed": false,
    "pycharm": {
     "name": "#%%\n"
    }
   }
  }
 ],
 "metadata": {
  "kernelspec": {
   "display_name": "Python 3",
   "language": "python",
   "name": "python3"
  },
  "language_info": {
   "codemirror_mode": {
    "name": "ipython",
    "version": 2
   },
   "file_extension": ".py",
   "mimetype": "text/x-python",
   "name": "python",
   "nbconvert_exporter": "python",
   "pygments_lexer": "ipython2",
   "version": "2.7.6"
  }
 },
 "nbformat": 4,
 "nbformat_minor": 0
}